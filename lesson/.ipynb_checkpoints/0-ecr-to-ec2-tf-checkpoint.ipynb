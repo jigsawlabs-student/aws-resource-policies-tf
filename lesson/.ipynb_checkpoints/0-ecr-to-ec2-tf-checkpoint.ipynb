{
 "cells": [
  {
   "cell_type": "markdown",
   "id": "48387fed-ee05-4c04-bec9-f8795f2690ad",
   "metadata": {},
   "source": [
    "# Custom Policies with ECR and Terraform"
   ]
  },
  {
   "cell_type": "markdown",
   "id": "ca6e8b3d-abb8-4125-a38d-0ac99bb3f7ee",
   "metadata": {},
   "source": [
    "### Introduction"
   ]
  },
  {
   "cell_type": "markdown",
   "id": "c933d31b-b6bc-4191-b0c8-f967c10f53bd",
   "metadata": {},
   "source": [
    "In the last couple of lessons, we used terraform to explore roles and policies.  As we saw, we can think of an IAM role as a keycard that gives us the ability to act on resources.  And for the keycard to grant that access, we need to attach one or more policies to that role, that give various permissions to a resource (like pulling an image from an ECR repo).  And then we can attach the IAM role to a separate resource (like an EC2), to allow the resource to have those permissions."
   ]
  },
  {
   "cell_type": "markdown",
   "id": "96563099-11fa-48a1-bfe8-c038ef19c44c",
   "metadata": {},
   "source": [
    "We can see this in the diagram below.  It shows us creating an IAM role that (1) allows EC2 machines to assume that role, and (2) has a policy giving the role ECR access.  We then attached the IAM profile to an EC2 machine."
   ]
  },
  {
   "cell_type": "markdown",
   "id": "8e9f33b7-c025-4bc4-ac8e-ffb5f32dba7a",
   "metadata": {},
   "source": [
    "<img src=\"./ec2-ecr-permissions.png\" width=\"60%\">"
   ]
  },
  {
   "cell_type": "markdown",
   "id": "5a02e112-c8c7-4a95-908e-2e16ed08d2ae",
   "metadata": {},
   "source": [
    "### More Reviewing"
   ]
  },
  {
   "cell_type": "markdown",
   "id": "b9d4938a-1bc8-4bf2-a717-b9683624052a",
   "metadata": {},
   "source": [
    "In this reading, we'll use terraform to explore policies, roles and resources more deeply.  But before we do, let's start by reviewing the terraform file.  Take a look at the `tf/main.tf`  There, you can see code for creating the EC2 machine, and then further down creating: \n",
    "\n",
    "* The role and the Assume Role Policy (that allows EC2 machines to assume the role)\n",
    "* And the instance profile, which is a container for the role, that we'll directly attach the profile to the EC2 resource\n",
    "\n",
    "```bash\n",
    "resource \"aws_iam_role\" \"ec2_ecr_role\" {\n",
    "    name = \"ec2-ecr-role\"\n",
    "\n",
    "    assume_role_policy = jsonencode({\n",
    "    Version = \"2012-10-17\"\n",
    "    Statement = [\n",
    "      {\n",
    "      Action = \"sts:AssumeRole\"\n",
    "      Effect = \"Allow\"\n",
    "      Principal = {\n",
    "      Service = \"ec2.amazonaws.com\"\n",
    "      }\n",
    "      Sid = \"\"\n",
    "      },\n",
    "    ]\n",
    "  })\n",
    "}\n",
    "\n",
    "resource \"aws_iam_instance_profile\" \"ec2_profile\" {\n",
    " name = \"ec2-ecr-instance-profile\"\n",
    " role = aws_iam_role.ec2_ecr_role.name\n",
    "}\n",
    "\n",
    "resource \"aws_instance\" \"ec2_instance\" {\n",
    "  ami           = \"ami-0d7a109bf30624c99\"\n",
    "  instance_type = \"t2.micro\"\n",
    "  iam_instance_profile = aws_iam_instance_profile.ec2_iam_profile.name\n",
    "  ...\n",
    "```\n",
    "\n",
    "And then we attach a policy to that role.\n",
    "\n",
    "```python\n",
    "resource \"aws_iam_role_policy_attachment\" \"ecr_read_only\" {\n",
    " role = aws_iam_role.ec2_ecr_role.name\n",
    " policy_arn = \"arn:aws:iam::aws:policy/AmazonEC2ContainerRegistryReadOnly\"\n",
    "}\n",
    "```"
   ]
  },
  {
   "cell_type": "markdown",
   "id": "eaa85bc4-18ce-421b-b450-25059df60285",
   "metadata": {},
   "source": [
    "### Deeper with Policies"
   ]
  },
  {
   "cell_type": "markdown",
   "id": "e593b172-76d6-41d2-8a95-0fabeaa043bf",
   "metadata": {},
   "source": [
    "Ok, so in those last lines of terraform code, we give our `ec2_ecr_role` permisssions by attaching a pre-existing policy in AWS.  And remember that we can find that policy simply by pasting the arn string directly into the search box in AWS."
   ]
  },
  {
   "cell_type": "markdown",
   "id": "710cf7e8-e2b2-459c-977e-7518df6c6a3b",
   "metadata": {},
   "source": [
    "And if you searched in AWS, you can see that the policy itself has the following statement:"
   ]
  },
  {
   "cell_type": "markdown",
   "id": "37ef0752-ac8e-4bb4-aee6-d99555c9499f",
   "metadata": {},
   "source": [
    "<img src=\"./json-doc.png\" width=\"60%\">"
   ]
  },
  {
   "cell_type": "markdown",
   "id": "bf8c3c39-c9a2-4b3c-a8b4-d5b182c4757d",
   "metadata": {},
   "source": [
    "You can see how the policy document works.  We specify the `Version` (that's the aws api verion), and a list of statements.  Here, we only have one statement, and it has an `Effect` of `Allow`, to then allow the below Actions.  The option would be to specify `Deny` to deny the ability to perform certain actions.  And then for resource, the `*` specifies allowing those permissions on any ECR image."
   ]
  },
  {
   "cell_type": "markdown",
   "id": "aff2e0ae-956c-42e1-815e-84f53c22171d",
   "metadata": {},
   "source": [
    "* Creating our own policy"
   ]
  },
  {
   "cell_type": "markdown",
   "id": "74122ca9-0ff5-4480-8680-e2f846e4bf5d",
   "metadata": {},
   "source": [
    "Ok, so above we are using a pre-existing IAM policy, the `arn:aws:iam::aws:policy/AmazonEC2ContainerRegistryReadOnly` policy defined by AWS.  But we can also create our own policy.\n",
    "\n",
    "You'll see at the bottom of the `web_app/tf/main.tf` file, we have defined the following."
   ]
  },
  {
   "cell_type": "markdown",
   "id": "e7734dd0-d23b-43d1-97b3-b121687d885d",
   "metadata": {},
   "source": [
    "```bash\n",
    "resource \"aws_iam_policy\" \"ecr_custom_read_only\" {\n",
    "  name        = \"ecr_custom_read_only\"\n",
    "  description = \"Policy that allows ECR pull images\"\n",
    "\n",
    "  policy = jsonencode({\n",
    "    Version = \"2012-10-17\"\n",
    "    Statement = [\n",
    "      {\n",
    "        Action   = [\"ecr:GetAuthorizationToken\",\n",
    "        \"ecr:BatchGetImage\",\n",
    "         \"ecr:BatchCheckLayerAvailability\", \n",
    "         \"ecr:GetDownloadUrlForLayer\"]\n",
    "        Effect   = \"Allow\"\n",
    "        Resource = \"*\"\n",
    "      },\n",
    "    ]\n",
    "  })\n",
    "}\n",
    "```"
   ]
  },
  {
   "cell_type": "markdown",
   "id": "cfdf39e7-4bb6-453b-8427-a68842bf214c",
   "metadata": {},
   "source": [
    "So above, we are creating an ECR policy, and that policy only for the actions that allows for downloading an image from ECR, but nothing else.  For example, notice that we cannot list or describe the ECR images with the above.  \n",
    "\n",
    "Let's make it even more restrictive than then one above.  Instead of `Resource = \"*\"`, choose `Resource = [\"arn\"]`, and instead of \"arn\" input the arn of one of your ecr images.\n",
    "\n",
    "Next, let's remove the policy attachmment or `ecr_read_only` (just comment it out), and create a new policy attachment of the following:\n",
    "\n",
    "```bash\n",
    "# resource \"aws_iam_role_policy_attachment\" \"ecr_read_only\" {\n",
    "#  role = aws_iam_role.ec2_ecr_role.name\n",
    "#  policy_arn = \"arn:aws:iam::aws:policy/AmazonEC2ContainerRegistryReadOnly\"\n",
    "# }\n",
    "\n",
    "resource \"aws_iam_role_policy_attachment\" \"example_attach\" {\n",
    "  role       = aws_iam_role.ec2_ecr_role.name\n",
    "  policy_arn = aws_iam_policy.ecr_custom_read_only.arn\n",
    "}\n",
    "```"
   ]
  },
  {
   "cell_type": "markdown",
   "id": "09b80542-b0c7-4c1c-bf89-a1e2f0180a3e",
   "metadata": {},
   "source": [
    "* So notice that above, we define the attachment using the exact same fields as before -- the role we want to attach the policy to, and the policy arn.  And we get that policy arn by just calling `.arn`."
   ]
  },
  {
   "cell_type": "markdown",
   "id": "aaa71dc6-a55f-4c63-990d-346e058d0486",
   "metadata": {},
   "source": [
    "Then apply the changes:"
   ]
  },
  {
   "cell_type": "markdown",
   "id": "4929762a-66e1-4187-b34b-a7eb392d462e",
   "metadata": {},
   "source": [
    "```bash\n",
    "terraform apply\n",
    "```"
   ]
  },
  {
   "cell_type": "markdown",
   "id": "73267f6e-0e80-48ee-8104-8837a94fe801",
   "metadata": {},
   "source": [
    "And ssh into your ec2 machine, and check the following:"
   ]
  },
  {
   "cell_type": "markdown",
   "id": "f23c4da5-4cbd-4d86-8911-6bd4578d145a",
   "metadata": {},
   "source": [
    "1. Confirm that you can no longer describe the ecr repositories\n",
    "    * `aws ecr describe-repositories`"
   ]
  },
  {
   "cell_type": "markdown",
   "id": "30286925-8309-46b8-84d8-8a6b6118143c",
   "metadata": {},
   "source": [
    "<img src=\"./access-denied.png\" width=\"60%\">"
   ]
  },
  {
   "cell_type": "markdown",
   "id": "9f9ff305-886f-40a6-9d37-74df010b11c9",
   "metadata": {},
   "source": [
    "2. Confirm that **you can** pull down the image that you granted permission for\n",
    "    * But **cannot** pull down any others\n",
    "    * To do so, replace `your-region` with your region, and also place in the information for your account after `--password-stdin`."
   ]
  },
  {
   "cell_type": "markdown",
   "id": "c414fe25-aac8-4b67-aa51-e62a43a4e0e6",
   "metadata": {
    "tags": []
   },
   "source": [
    "```bash\n",
    "aws ecr get-login-password --region your-region | sudo docker login --username AWS --password-stdin your-aws-account-id.dkr.ecr.your-region.amazonaws.com\n",
    "\n",
    "sudo docker pull *********.dkr.ecr.us-east-1.amazonaws.com/flask_app:latest\n",
    "```"
   ]
  },
  {
   "cell_type": "markdown",
   "id": "f89b7cbc-ee9a-435b-8322-756a212c1ba2",
   "metadata": {},
   "source": [
    "* A quick review"
   ]
  },
  {
   "cell_type": "markdown",
   "id": "de7a8be8-4736-416d-8277-e851e7c4df01",
   "metadata": {},
   "source": [
    "Ok, so just to review we saw that we attach a role to a resource (like an EC2 machine), and to a role, we attach one or more policies.  And each one of those policies has one or more *actions* which are typically permissions that specify what actions we can perform on that resource."
   ]
  },
  {
   "cell_type": "markdown",
   "id": "732deed7-ebde-494d-b892-ffcab171b149",
   "metadata": {},
   "source": [
    "### Summary"
   ]
  },
  {
   "cell_type": "markdown",
   "id": "edb8022c-639e-4611-88db-7337c1652833",
   "metadata": {},
   "source": [
    "Ok, so in this lesson, we reviewed identity policies.  And then defined our own identity policy."
   ]
  },
  {
   "cell_type": "markdown",
   "id": "45dad867-1b17-4b57-bce8-7c80e5c5080c",
   "metadata": {},
   "source": [
    "```bash\n",
    "resource \"aws_iam_policy\" \"ecr_custom_read_only\" {\n",
    "  name        = \"ecr_custom_read_only\"\n",
    "  description = \"Policy that allows ECR pull images\"\n",
    "\n",
    "  policy = jsonencode({\n",
    "    Version = \"2012-10-17\"\n",
    "    Statement = [\n",
    "      {\n",
    "        Action   = [\"ecr:GetAuthorizationToken\",\n",
    "        \"ecr:BatchGetImage\",\n",
    "         \"ecr:BatchCheckLayerAvailability\", \n",
    "         \"ecr:GetDownloadUrlForLayer\"]\n",
    "        Effect   = \"Allow\"\n",
    "        Resource = \"*\"\n",
    "      },\n",
    "    ]\n",
    "  })\n",
    "}\n",
    "```"
   ]
  },
  {
   "cell_type": "markdown",
   "id": "f6b2923f-d8f7-47ec-96d3-5a2d411b4792",
   "metadata": {},
   "source": [
    "### Resources\n",
    "\n",
    "[Repo Policy Examples](https://docs.aws.amazon.com/AmazonECR/latest/userguide/repository-policy-examples.html)"
   ]
  }
 ],
 "metadata": {
  "kernelspec": {
   "display_name": "Python 3 (ipykernel)",
   "language": "python",
   "name": "python3"
  },
  "language_info": {
   "codemirror_mode": {
    "name": "ipython",
    "version": 3
   },
   "file_extension": ".py",
   "mimetype": "text/x-python",
   "name": "python",
   "nbconvert_exporter": "python",
   "pygments_lexer": "ipython3",
   "version": "3.10.14"
  }
 },
 "nbformat": 4,
 "nbformat_minor": 5
}
