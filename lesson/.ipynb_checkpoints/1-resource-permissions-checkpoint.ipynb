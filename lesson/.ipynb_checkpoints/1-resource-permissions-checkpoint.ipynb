{
 "cells": [
  {
   "cell_type": "markdown",
   "id": "48387fed-ee05-4c04-bec9-f8795f2690ad",
   "metadata": {},
   "source": [
    "# Working with Resource Permissions"
   ]
  },
  {
   "cell_type": "markdown",
   "id": "ca6e8b3d-abb8-4125-a38d-0ac99bb3f7ee",
   "metadata": {},
   "source": [
    "### Introduction"
   ]
  },
  {
   "cell_type": "markdown",
   "id": "df0d79ef-44d8-4811-a4c3-b78b8660c20a",
   "metadata": {},
   "source": [
    "Now so far we have seen two types of policies.\n",
    "\n",
    "* We have primarily worked with one type of policy, **identity** policies, which attach to our IAM role.  We have seen that the identity policy is used to attach permissions to a role, and that the role acts like a keycard we can give to resources.  So far our identity policy has granted ECR access.\n",
    "\n",
    "* We also saw the **assume role policy** (or the trust policy), which allows our ec2 machine to machine to assume the role (ie. hold onto the keycard).  \n",
    "\n",
    "```bash\n",
    "resource \"aws_iam_role\" \"ec2_ecr_role\" {\n",
    "    name = \"ec2-ecr-allow\"\n",
    "\n",
    "    assume_role_policy = jsonencode({\n",
    "    Version = \"2012-10-17\"\n",
    "    Statement = [\n",
    "      {\n",
    "      Action = \"sts:AssumeRole\"\n",
    "      Effect = \"Allow\"\n",
    "      Principal = {\n",
    "      Service = \"ec2.amazonaws.com\"\n",
    "      }\n",
    "      ...\n",
    "```\n",
    "\n",
    "Below, you can see the two policies we attached -- the Trust Policy (assume role) and the Identity policy granting ECR access."
   ]
  },
  {
   "cell_type": "markdown",
   "id": "8e9f33b7-c025-4bc4-ac8e-ffb5f32dba7a",
   "metadata": {},
   "source": [
    "<img src=\"./ec2-ecr-permissions.png\" width=\"60%\">"
   ]
  },
  {
   "cell_type": "markdown",
   "id": "a076b63f-54a5-43b9-99f1-227e5c77c2d8",
   "metadata": {},
   "source": [
    "Now the last policy to learn about is a **resource policy**, and that's what we'll learn about here."
   ]
  },
  {
   "cell_type": "markdown",
   "id": "3c153c7a-c8ee-41ca-ac56-ac7337f767fb",
   "metadata": {},
   "source": [
    "### Adding Resource Permissions"
   ]
  },
  {
   "cell_type": "markdown",
   "id": "4ccca85f-c1c7-4bca-ba9a-b10b98046a3b",
   "metadata": {},
   "source": [
    "A resource policy operates slightly differently than an identity policy.  If an IAM policy  acts like a keycard, granting access to whoever holds the keycard, then a resource policy is like a bouncer, standing in front of our ECR (or another) resource, saying who can enter.\n",
    "\n",
    "This means that our resource policy is attached directly to the resource, instead of being attached to the role."
   ]
  },
  {
   "cell_type": "markdown",
   "id": "801fdcab-6e3d-4dcb-b6ec-ab51202a0f74",
   "metadata": {},
   "source": [
    "We can see this by looking at the `aws_ecr_repository_policy` defined in the `tf-resource/resource_ec2.tf` file.  There we'll see the following:"
   ]
  },
  {
   "cell_type": "markdown",
   "id": "46244919-6af0-46d4-89e3-12a5a33440e4",
   "metadata": {},
   "source": [
    "```bash\n",
    "resource \"aws_ecr_repository_policy\" \"ec2_access\" {\n",
    "  repository = \"app-repo\"\n",
    "\n",
    "  policy = jsonencode({\n",
    "    Version = \"2012-10-17\",\n",
    "    Statement = [\n",
    "      {\n",
    "        Sid    = \"AllowEC2RoleAccess\",\n",
    "        Effect = \"Allow\",\n",
    "        Principal = {\n",
    "          AWS = aws_iam_role.ec2_resource_access_role.arn\n",
    "        },\n",
    "        Action = [\n",
    "          \"ecr:GetDownloadUrlForLayer\",\n",
    "          \"ecr:BatchGetImage\",\n",
    "          \"ecr:BatchCheckLayerAvailability\"\n",
    "        ]\n",
    "      }\n",
    "    ]\n",
    "  })\n",
    "}\n",
    "```"
   ]
  },
  {
   "cell_type": "markdown",
   "id": "dba6ee15-4801-4ea1-ab1b-3c993113c9ff",
   "metadata": {},
   "source": [
    "Look at the second line of the statement above:\n",
    "    \n",
    "```bash\n",
    "repository = \"app-repo\"\n",
    "```\n",
    "\n",
    "    \n",
    "So you can see that the resource policy attaches directly to the repository named `app-repo` -- it does not attach to an IAM role.  And then by attaching to that `app-repo`, it specifies who can access the repo.  And there, it says the `Principal` -- the person who can walk through the door can be the those who hold our `aws_iam_role` keycard."
   ]
  },
  {
   "cell_type": "markdown",
   "id": "81c87921-d1b0-4e4d-b676-dcf03c8d8757",
   "metadata": {},
   "source": [
    "resource \"aws_iam_role\""
   ]
  },
  {
   "cell_type": "markdown",
   "id": "0639e2e8-705f-463b-b92a-87070239f1aa",
   "metadata": {},
   "source": [
    "### Applying our changes"
   ]
  },
  {
   "cell_type": "markdown",
   "id": "c63d0015-df02-4384-a58f-ed8d8d756679",
   "metadata": {},
   "source": [
    "So now navigate to the `tf-resource` folder, and the `resource_ec2.tf` file.  There you'll see we have defined an iam_role up top, followed by an instance profile that we'll attach to an ec2 machine, and then comes the `ecr_repository_policy`.  \n",
    "\n",
    "Update the `repository=app-repo`, to match one of your repositories.  \n",
    "\n",
    "You can find it by navigating to `Amazon ECR > Private Registry > Repositiories`."
   ]
  },
  {
   "cell_type": "markdown",
   "id": "4ac36a0f-8d62-42e5-b1ff-45e641ceb320",
   "metadata": {},
   "source": [
    "<img src=\"./existing-repos.png\" width=\"60%\">"
   ]
  },
  {
   "cell_type": "markdown",
   "id": "03d71db6-5e59-45ff-b164-24ef6ed5dcd3",
   "metadata": {},
   "source": [
    "So we'll specify that we want to give access to this repository, and then later down we specify the principal indicating who gets access to this repository.\n",
    "```bash\n",
    "Principal = {\n",
    "          AWS = aws_iam_role.ec2_resource_access_role.arn\n",
    "        }\n",
    "```"
   ]
  },
  {
   "cell_type": "markdown",
   "id": "ea8182ce-4a41-43a6-aefc-f8cca753a0da",
   "metadata": {},
   "source": [
    "> So again, you can think of this being like a bouncer who now has certain resources on it's list it will allow in. "
   ]
  },
  {
   "cell_type": "markdown",
   "id": "8f39e506-c5db-42c8-be4b-7bc456984343",
   "metadata": {},
   "source": [
    "And then later on you can see that we attached that role above to an EC2 instance."
   ]
  },
  {
   "cell_type": "markdown",
   "id": "93138e20-d5a9-452f-8021-bba31acd4a7c",
   "metadata": {},
   "source": [
    "```bash\n",
    "resource \"aws_instance\" \"ec2_resource\" {\n",
    "  ami           = \"ami-0d7a109bf30624c99\"\n",
    "  instance_type = \"t2.micro\"\n",
    "  iam_instance_profile = aws_iam_instance_profile.ec2_resource_profile.name\n",
    "```"
   ]
  },
  {
   "cell_type": "markdown",
   "id": "16b0904c-926e-4c95-8db1-d925a27be6f1",
   "metadata": {},
   "source": [
    "For the `aws_instance`, you'll need to update the `key_name` property, and potentially the `iam` property."
   ]
  },
  {
   "cell_type": "markdown",
   "id": "7ab903ef-007e-4d8a-9d03-a3bb0228c46a",
   "metadata": {},
   "source": [
    "Ok, so with those changes let's apply this code."
   ]
  },
  {
   "cell_type": "markdown",
   "id": "31301491-ca88-4511-9533-afee210d5e74",
   "metadata": {},
   "source": [
    "```bash\n",
    "terraform init\n",
    "terraform apply\n",
    "```"
   ]
  },
  {
   "cell_type": "markdown",
   "id": "cc6ddfc7-fd85-45a9-b6dd-20c05a7ba886",
   "metadata": {},
   "source": [
    "1. Checking the resource ec2\n",
    "\n",
    "So, now if you look at what we outputted to the terminal, you should see the instructions to ssh into the ec2 resource.\n",
    "\n",
    "So confirm that you can list the images with the following."
   ]
  },
  {
   "cell_type": "markdown",
   "id": "bdf27797-7d59-4c35-97c3-23a8c50558d8",
   "metadata": {},
   "source": [
    "> * `aws ecr list-images --repository-name=app-repo`"
   ]
  },
  {
   "cell_type": "code",
   "execution_count": null,
   "id": "aa3a7b41-29b3-46aa-9530-691dee7ce2b6",
   "metadata": {},
   "outputs": [],
   "source": [
    "* Seeing the permissions"
   ]
  },
  {
   "cell_type": "markdown",
   "id": "2932ac9a-019a-46f0-b7a1-21666fdf95a7",
   "metadata": {},
   "source": [
    "Ok, so remember, so far we grant this permissions directly on the resource -- as opposed to the IAM.  \n",
    "\n",
    "You can see this, by going to the relevant repository (for me, it's `app-repo`), and then clicking on `Repo-Name > Permissions`."
   ]
  },
  {
   "cell_type": "markdown",
   "id": "d944598a-f053-43f0-b047-d5dffd95622a",
   "metadata": {},
   "source": [
    "<img src=\"./app-repo-permissions.png\" width=\"60%\">"
   ]
  },
  {
   "cell_type": "markdown",
   "id": "895328a8-fe34-4d7d-8585-fce9b5430d2e",
   "metadata": {},
   "source": [
    "So above, you can see that the resource gives allow access to those with `ec2-access-role` various actions, like Describe Repository."
   ]
  },
  {
   "cell_type": "markdown",
   "id": "abddb2f5-28f1-4fc4-bc4c-de6786ed5be7",
   "metadata": {},
   "source": [
    "And that's why we were able to describe the repo from our EC2 image."
   ]
  },
  {
   "cell_type": "markdown",
   "id": "52186400-813c-48b8-aca5-97143b03411b",
   "metadata": {},
   "source": [
    "* One gotcha"
   ]
  },
  {
   "cell_type": "markdown",
   "id": "e4e22ef2-f374-4525-a670-5a254a1d7381",
   "metadata": {},
   "source": [
    "Unfortunately, if from our EC2 we try the following:"
   ]
  },
  {
   "cell_type": "markdown",
   "id": "72c1d5a2-ecc2-4b25-abb3-865be4cc4855",
   "metadata": {},
   "source": [
    "> ```bash\n",
    "aws ecr get-login-password --region us-east-1 | sudo docker login --username AWS --password-stdin **********.dkr.ecr.us-east-1.amazonaws.com\n",
    "```"
   ]
  },
  {
   "cell_type": "markdown",
   "id": "f0bd278f-94d7-42ab-afc0-4e4df0e341f1",
   "metadata": {},
   "source": [
    "You may get an error.  Unfortunately, AWS does not allow granting `ecr:GetAuthorizationToken` from a resource policy.  We'll have to use an IAM policy to get the authorization token.\n",
    "\n",
    "> You don't have to memorize this -- it's just to point out some of the fun things that can go wrong."
   ]
  },
  {
   "cell_type": "markdown",
   "id": "e066a841-faf6-41bf-a966-b1b9c6210579",
   "metadata": {},
   "source": [
    "### 2. Adding an Identity Policy"
   ]
  },
  {
   "cell_type": "markdown",
   "id": "a2090dea-87bf-4f70-a420-1fae797e9f87",
   "metadata": {},
   "source": [
    "So what if we add on another machine that does not have access through the resource policy, but through our good old identity policy.  How does a resource policy interact with that?"
   ]
  },
  {
   "cell_type": "markdown",
   "id": "b7c6c3bd-b42d-4fdd-bbe5-e295defe5c96",
   "metadata": {},
   "source": [
    "So go to the `tf-resource/iam_ec2.tf` file.  You'll see that part of it is commented out, so now uncommented so that nothing is commented.\n",
    "\n",
    "Then in the ec2 instance: \n",
    "\n",
    "* update the `key_name` attribute and potentially the `iam` value.  \n",
    "\n",
    "Then run the following:\n",
    "\n",
    "```bash\n",
    "terraform apply\n",
    "```"
   ]
  },
  {
   "cell_type": "markdown",
   "id": "9f1c1e63-f587-45ef-8ee8-57c4b951eb5e",
   "metadata": {},
   "source": [
    "And ssh into the ec2 machine."
   ]
  },
  {
   "cell_type": "markdown",
   "id": "bf5a994a-a562-4b3f-9e22-7be808a46041",
   "metadata": {},
   "source": [
    "Ok, so the iam policy defined for the ec2 that we just created grants a generic `AmazonEC2ContainerRegistryReadOnly` policy.  Now that we have a resource policy on our repository, does the identity policy still work?"
   ]
  },
  {
   "cell_type": "markdown",
   "id": "0fa11c0a-4863-4b85-8547-c52cb44fe5f5",
   "metadata": {},
   "source": [
    "So you'll see instructions how to ssh into this machine:\n",
    "\n",
    "```\n",
    "ssh with into ec2_iam with the following\n",
    "```"
   ]
  },
  {
   "cell_type": "markdown",
   "id": "1d89c2c1-0878-49cc-931f-a574d3fc2257",
   "metadata": {},
   "source": [
    "So ssh into the machine, and then try to access the repository."
   ]
  },
  {
   "cell_type": "markdown",
   "id": "3fb385d8-330b-48d8-aacd-c40565dd5490",
   "metadata": {},
   "source": [
    "```bash\n",
    "aws ecr get-login-password --region us-east-1 | sudo docker login --username AWS --password-stdin *******.dkr.ecr.us-east-1.amazonaws.com\n",
    "\n",
    "sudo docker pull *********.dkr.ecr.us-east-1.amazonaws.com/flask_app:latest\n",
    "```\n",
    "\n",
    "This works.\n",
    "\n",
    "```bash\n",
    "aws ecr list-images --repository-name=app-repo\n",
    "```\n",
    "\n",
    "This also works.\n"
   ]
  },
  {
   "cell_type": "markdown",
   "id": "54f68c4f-332a-4b9d-931c-6b270ea60b81",
   "metadata": {},
   "source": [
    "OK, so we just learned that, even though we have granted permissions to a role through the resource policy, we can also grant permissions to another role through the identity policy.  "
   ]
  },
  {
   "cell_type": "markdown",
   "id": "1c192a66-6074-4923-a629-9311b5c36134",
   "metadata": {},
   "source": [
    "* Clean up \n",
    "\n",
    "Run `terraform destroy` to remove your resources."
   ]
  },
  {
   "cell_type": "markdown",
   "id": "d51239ac-15b5-4155-95c4-80b5c2bada92",
   "metadata": {},
   "source": [
    "### Ok so where's the bouncer?"
   ]
  },
  {
   "cell_type": "markdown",
   "id": "319dd27f-c328-42c3-826f-7b4a0d221048",
   "metadata": {},
   "source": [
    "So now so far we have allowed access with our resource policy, but what if we wanted to deny access with that policy.\n",
    "\n",
    "> **Note:** This next part you do not need to apply.  You can just read along."
   ]
  },
  {
   "cell_type": "markdown",
   "id": "b63e95ba-4e32-48bd-aca9-3cfaaca7142d",
   "metadata": {},
   "source": [
    "Ok, so if you look at the policy below, you can see that again it is a `aws_ecr_resource_policy`, attached directly to the resource.  But this time we specify `Effect = Deny`, and denying the actions listed.  You'll also see the `Condition`, which we'll discuss below."
   ]
  },
  {
   "cell_type": "markdown",
   "id": "413f5628-eaa2-41bc-a366-383cb49ab870",
   "metadata": {},
   "source": [
    "```bash\n",
    "resource \"aws_ecr_repository_policy\" \"ec2_deny\" {\n",
    "  repository = \"app-repo\"\n",
    "  policy = jsonencode({\n",
    "    Version = \"2012-10-17\",\n",
    "    Statement = [{\n",
    "        Sid    = \"DenyECRAccess\",\n",
    "        Effect = \"Deny\",\n",
    "        Condition = {\n",
    "                \"StringNotEquals\": {\n",
    "                    \"aws:userid\": [\"admin\", aws_iam_role.ec2_resource_access_role.name]\n",
    "                }\n",
    "            }\n",
    "        Action = [\n",
    "           \"ecr:GetDownloadUrlForLayer\",\n",
    "          \"ecr:BatchGetImage\",\n",
    "          \"ecr:BatchCheckLayerAvailability\",\n",
    "          \"ecr:GetAuthorizationToken\"\n",
    "        ]\n",
    "      }]\n",
    "}\n",
    "```"
   ]
  },
  {
   "cell_type": "markdown",
   "id": "ec2136cf-7895-4a56-9d07-201f1d436aac",
   "metadata": {},
   "source": [
    "Ok, so our condition is specifying the roles where we do want to give some access.  And that is those who we do not want to apply our deny access to.  And those roles are our admin, and the ec2 resource we want to access the ecr.\n",
    "\n",
    "```bash\n",
    "Condition = {\n",
    "    \"StringNotEquals\": {\n",
    "        \"aws:userid\": [\"admin\", aws_iam_role.ec2_resource_access_role.name]\n",
    "    }\n",
    "}\n",
    "```\n",
    "\n",
    "So we want the `ec2_resource` to not be denied because well, we want it to pull down our image from the repo.  And we want the `admin` to not be denied because terraform will need access to the repo to say change the permissions on the repo, or make any other changes.  If we forget to list the admin, then if we ever use terraform to try change something about our ECR repo, we'll see an error specifying that our admin user does not have access."
   ]
  },
  {
   "cell_type": "markdown",
   "id": "cb802afd-93b2-4305-ba71-db516e912277",
   "metadata": {},
   "source": [
    "> And, in case your wondering, that deny access at the resource level will win out, even if we have an allow access through an IAM policy.  This is because AWS explicit deny will win out over an explicit allow. "
   ]
  },
  {
   "cell_type": "markdown",
   "id": "732deed7-ebde-494d-b892-ffcab171b149",
   "metadata": {},
   "source": [
    "### Summary"
   ]
  },
  {
   "cell_type": "markdown",
   "id": "45dad867-1b17-4b57-bce8-7c80e5c5080c",
   "metadata": {},
   "source": [
    "In this lesson, we saw that, with with a resource policy, we can attach a policy directly to a resource."
   ]
  },
  {
   "cell_type": "markdown",
   "id": "6d62a5f8-ec68-4d7f-b184-987227f7878c",
   "metadata": {
    "tags": []
   },
   "source": [
    "```bash\n",
    "resource \"aws_ecr_repository_policy\" \"ec2_access\" {\n",
    "  repository = \"app-repo\"\n",
    "\n",
    "  policy = jsonencode({\n",
    "    Version = \"2012-10-17\",\n",
    "    Statement = [\n",
    "      {\n",
    "        Sid    = \"AllowEC2RoleAccess\",\n",
    "        Effect = \"Allow\",\n",
    "        Principal = {\n",
    "          AWS = aws_iam_role.ec2_resource_access_role.arn\n",
    "        },\n",
    "        Action = [\n",
    "          \"ecr:GetDownloadUrlForLayer\",\n",
    "          \"ecr:BatchGetImage\",\n",
    "          \"ecr:BatchCheckLayerAvailability\"\n",
    "        ]\n",
    "      }\n",
    "    ]\n",
    "  })\n",
    "}\n",
    "```"
   ]
  },
  {
   "cell_type": "markdown",
   "id": "287fecd2-6e91-4d21-bbfa-40f8bdba696a",
   "metadata": {},
   "source": [
    "So above, **the resource** is granting permissions to the specified role to perform the above actions on the resource.  And we can see this by navigating to the resource, and clicking on permissions."
   ]
  },
  {
   "cell_type": "markdown",
   "id": "44cc9d21-9a6b-4582-a826-9f8a03e90d6d",
   "metadata": {},
   "source": [
    "<img src=\"./app-repo-permissions.png\" width=\"60%\">"
   ]
  },
  {
   "cell_type": "markdown",
   "id": "0851fe9e-7b36-49de-accc-c3788ca70b3d",
   "metadata": {},
   "source": [
    "Finally, we saw granting allow access to a role through a resource policy, does not remove our access through an identity policy.\n",
    "\n",
    "However, if we specify a resource policy of deny, that will win out over any allow policies granted through an identity policy."
   ]
  },
  {
   "cell_type": "markdown",
   "id": "f6b2923f-d8f7-47ec-96d3-5a2d411b4792",
   "metadata": {},
   "source": [
    "### Resources\n",
    "\n",
    "[Repo Policy Examples](https://docs.aws.amazon.com/AmazonECR/latest/userguide/repository-policy-examples.html)"
   ]
  }
 ],
 "metadata": {
  "kernelspec": {
   "display_name": "Python 3 (ipykernel)",
   "language": "python",
   "name": "python3"
  },
  "language_info": {
   "codemirror_mode": {
    "name": "ipython",
    "version": 3
   },
   "file_extension": ".py",
   "mimetype": "text/x-python",
   "name": "python",
   "nbconvert_exporter": "python",
   "pygments_lexer": "ipython3",
   "version": "3.10.14"
  }
 },
 "nbformat": 4,
 "nbformat_minor": 5
}
